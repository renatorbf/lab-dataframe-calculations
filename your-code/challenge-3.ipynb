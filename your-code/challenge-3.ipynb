{
  "nbformat": 4,
  "nbformat_minor": 0,
  "metadata": {
    "kernelspec": {
      "display_name": "Python 3",
      "language": "python",
      "name": "python3"
    },
    "language_info": {
      "codemirror_mode": {
        "name": "ipython",
        "version": 3
      },
      "file_extension": ".py",
      "mimetype": "text/x-python",
      "name": "python",
      "nbconvert_exporter": "python",
      "pygments_lexer": "ipython3",
      "version": "3.8.8"
    },
    "colab": {
      "name": "challenge-3.ipynb",
      "provenance": []
    }
  },
  "cells": [
    {
      "cell_type": "markdown",
      "metadata": {
        "id": "PaggE7qhVqO-"
      },
      "source": [
        "# Challenge 3\n",
        "\n",
        "In this challenge we will work on the `Orders` data set. In your work you will apply the thinking process and workflow we showed you in Challenge 2.\n",
        "\n",
        "You are serving as a Business Intelligence Analyst at the headquarter of an international fashion goods chain store. Your boss today asked you to do two things for her:\n",
        "\n",
        "**First, identify two groups of customers from the data set.** The first group is **VIP Customers** whose **aggregated expenses** at your global chain stores are **above the 95th percentile** (aka. 0.95 quantile). The second group is **Preferred Customers** whose **aggregated expenses** are **between the 75th and 95th percentile**.\n",
        "\n",
        "**Second, identify which country has the most of your VIP customers, and which country has the most of your VIP+Preferred Customers combined.**"
      ]
    },
    {
      "cell_type": "markdown",
      "metadata": {
        "id": "pldIYDJPVqPA"
      },
      "source": [
        "## Q1: How to identify VIP & Preferred Customers?\n",
        "\n",
        "We start by importing all the required libraries:"
      ]
    },
    {
      "cell_type": "code",
      "metadata": {
        "id": "g1qxGcQjVqPB"
      },
      "source": [
        "# import required libraries\n",
        "import numpy as np\n",
        "import pandas as pd"
      ],
      "execution_count": 1,
      "outputs": []
    },
    {
      "cell_type": "markdown",
      "metadata": {
        "id": "k1bvou69VqPC"
      },
      "source": [
        "Next, extract and import `Orders` dataset into a dataframe variable called `orders`. Print the head of `orders` to overview the data:"
      ]
    },
    {
      "cell_type": "code",
      "metadata": {
        "id": "_NyVc6s5VqPC",
        "outputId": "044ac224-15e6-416e-8910-e502e3e712cf",
        "colab": {
          "base_uri": "https://localhost:8080/",
          "height": 417
        }
      },
      "source": [
        "# your code here\n",
        "orders = pd.read_csv('https://raw.githubusercontent.com/renatorbf/lab-dataframe-calculations/master/your-code/Orders/Orders.csv')\n",
        "orders.head()"
      ],
      "execution_count": 2,
      "outputs": [
        {
          "output_type": "execute_result",
          "data": {
            "text/html": [
              "<div>\n",
              "<style scoped>\n",
              "    .dataframe tbody tr th:only-of-type {\n",
              "        vertical-align: middle;\n",
              "    }\n",
              "\n",
              "    .dataframe tbody tr th {\n",
              "        vertical-align: top;\n",
              "    }\n",
              "\n",
              "    .dataframe thead th {\n",
              "        text-align: right;\n",
              "    }\n",
              "</style>\n",
              "<table border=\"1\" class=\"dataframe\">\n",
              "  <thead>\n",
              "    <tr style=\"text-align: right;\">\n",
              "      <th></th>\n",
              "      <th>Unnamed: 0</th>\n",
              "      <th>InvoiceNo</th>\n",
              "      <th>StockCode</th>\n",
              "      <th>year</th>\n",
              "      <th>month</th>\n",
              "      <th>day</th>\n",
              "      <th>hour</th>\n",
              "      <th>Description</th>\n",
              "      <th>Quantity</th>\n",
              "      <th>InvoiceDate</th>\n",
              "      <th>UnitPrice</th>\n",
              "      <th>CustomerID</th>\n",
              "      <th>Country</th>\n",
              "      <th>amount_spent</th>\n",
              "    </tr>\n",
              "  </thead>\n",
              "  <tbody>\n",
              "    <tr>\n",
              "      <th>0</th>\n",
              "      <td>0</td>\n",
              "      <td>536365</td>\n",
              "      <td>85123A</td>\n",
              "      <td>2010</td>\n",
              "      <td>12</td>\n",
              "      <td>3</td>\n",
              "      <td>8</td>\n",
              "      <td>white hanging heart t-light holder</td>\n",
              "      <td>6</td>\n",
              "      <td>2010-12-01 08:26:00</td>\n",
              "      <td>2.55</td>\n",
              "      <td>17850</td>\n",
              "      <td>United Kingdom</td>\n",
              "      <td>15.30</td>\n",
              "    </tr>\n",
              "    <tr>\n",
              "      <th>1</th>\n",
              "      <td>1</td>\n",
              "      <td>536365</td>\n",
              "      <td>71053</td>\n",
              "      <td>2010</td>\n",
              "      <td>12</td>\n",
              "      <td>3</td>\n",
              "      <td>8</td>\n",
              "      <td>white metal lantern</td>\n",
              "      <td>6</td>\n",
              "      <td>2010-12-01 08:26:00</td>\n",
              "      <td>3.39</td>\n",
              "      <td>17850</td>\n",
              "      <td>United Kingdom</td>\n",
              "      <td>20.34</td>\n",
              "    </tr>\n",
              "    <tr>\n",
              "      <th>2</th>\n",
              "      <td>2</td>\n",
              "      <td>536365</td>\n",
              "      <td>84406B</td>\n",
              "      <td>2010</td>\n",
              "      <td>12</td>\n",
              "      <td>3</td>\n",
              "      <td>8</td>\n",
              "      <td>cream cupid hearts coat hanger</td>\n",
              "      <td>8</td>\n",
              "      <td>2010-12-01 08:26:00</td>\n",
              "      <td>2.75</td>\n",
              "      <td>17850</td>\n",
              "      <td>United Kingdom</td>\n",
              "      <td>22.00</td>\n",
              "    </tr>\n",
              "    <tr>\n",
              "      <th>3</th>\n",
              "      <td>3</td>\n",
              "      <td>536365</td>\n",
              "      <td>84029G</td>\n",
              "      <td>2010</td>\n",
              "      <td>12</td>\n",
              "      <td>3</td>\n",
              "      <td>8</td>\n",
              "      <td>knitted union flag hot water bottle</td>\n",
              "      <td>6</td>\n",
              "      <td>2010-12-01 08:26:00</td>\n",
              "      <td>3.39</td>\n",
              "      <td>17850</td>\n",
              "      <td>United Kingdom</td>\n",
              "      <td>20.34</td>\n",
              "    </tr>\n",
              "    <tr>\n",
              "      <th>4</th>\n",
              "      <td>4</td>\n",
              "      <td>536365</td>\n",
              "      <td>84029E</td>\n",
              "      <td>2010</td>\n",
              "      <td>12</td>\n",
              "      <td>3</td>\n",
              "      <td>8</td>\n",
              "      <td>red woolly hottie white heart.</td>\n",
              "      <td>6</td>\n",
              "      <td>2010-12-01 08:26:00</td>\n",
              "      <td>3.39</td>\n",
              "      <td>17850</td>\n",
              "      <td>United Kingdom</td>\n",
              "      <td>20.34</td>\n",
              "    </tr>\n",
              "  </tbody>\n",
              "</table>\n",
              "</div>"
            ],
            "text/plain": [
              "   Unnamed: 0  InvoiceNo StockCode  ...  CustomerID         Country  amount_spent\n",
              "0           0     536365    85123A  ...       17850  United Kingdom         15.30\n",
              "1           1     536365     71053  ...       17850  United Kingdom         20.34\n",
              "2           2     536365    84406B  ...       17850  United Kingdom         22.00\n",
              "3           3     536365    84029G  ...       17850  United Kingdom         20.34\n",
              "4           4     536365    84029E  ...       17850  United Kingdom         20.34\n",
              "\n",
              "[5 rows x 14 columns]"
            ]
          },
          "metadata": {},
          "execution_count": 2
        }
      ]
    },
    {
      "cell_type": "markdown",
      "metadata": {
        "id": "b-Hd8JE-VqPC"
      },
      "source": [
        "---\n",
        "\n",
        "\"Identify VIP and Preferred Customers\" is the non-technical goal of your boss. You need to translate that goal into technical languages that data analysts use:\n",
        "\n",
        "## How to label customers whose aggregated `amount_spent` is in a given quantile range?\n"
      ]
    },
    {
      "cell_type": "markdown",
      "metadata": {
        "id": "pPoslC0lVqPD"
      },
      "source": [
        "We break down the main problem into several sub problems:\n",
        "\n",
        "#### Sub Problem 1: How to aggregate the  `amount_spent` for unique customers?\n",
        "\n",
        "#### Sub Problem 2: How to select customers whose aggregated `amount_spent` is in a given quantile range?\n",
        "\n",
        "#### Sub Problem 3: How to label selected customers as \"VIP\" or \"Preferred\"?\n",
        "\n",
        "*Note: If you want to break down the main problem in a different way, please feel free to revise the sub problems above.*\n",
        "\n",
        "Now in the workspace below, tackle each of the sub problems using the iterative problem solving workflow. Insert cells as necessary to write your codes and explain your steps."
      ]
    },
    {
      "cell_type": "code",
      "metadata": {
        "id": "4m2CDbNkVqPD",
        "outputId": "75ebbb37-491f-4913-b372-14a3a6cbaef9",
        "colab": {
          "base_uri": "https://localhost:8080/",
          "height": 455
        }
      },
      "source": [
        "# your code here\n",
        "\n",
        "# Sub Problem 1\n",
        "orders_by_costumer = orders.groupby('CustomerID').agg({'amount_spent': 'sum'})\n",
        "\n",
        "# Sub Problem 2\n",
        "labels = ['Standard', 'Preferred', 'VIP']\n",
        "\n",
        "# VIP = orders_by_costumer[orders_by_costumer['amount_spent'] > orders_by_costumer['amount_spent'].quantile(q=0.95)]\n",
        "VIP = orders_by_costumer['amount_spent'].quantile(q=0.95)\n",
        "preferred = orders_by_costumer[(orders_by_costumer['amount_spent'] < orders_by_costumer['amount_spent'].quantile(q=0.95)) & (orders_by_costumer['amount_spent'] > orders_by_costumer['amount_spent'].quantile(q=0.75))]\n",
        "orders\n",
        "\n",
        "# Sub Problem 3\n",
        "orders_by_costumer"
      ],
      "execution_count": 10,
      "outputs": [
        {
          "output_type": "execute_result",
          "data": {
            "text/html": [
              "<div>\n",
              "<style scoped>\n",
              "    .dataframe tbody tr th:only-of-type {\n",
              "        vertical-align: middle;\n",
              "    }\n",
              "\n",
              "    .dataframe tbody tr th {\n",
              "        vertical-align: top;\n",
              "    }\n",
              "\n",
              "    .dataframe thead th {\n",
              "        text-align: right;\n",
              "    }\n",
              "</style>\n",
              "<table border=\"1\" class=\"dataframe\">\n",
              "  <thead>\n",
              "    <tr style=\"text-align: right;\">\n",
              "      <th></th>\n",
              "      <th>amount_spent</th>\n",
              "    </tr>\n",
              "    <tr>\n",
              "      <th>CustomerID</th>\n",
              "      <th></th>\n",
              "    </tr>\n",
              "  </thead>\n",
              "  <tbody>\n",
              "    <tr>\n",
              "      <th>12346</th>\n",
              "      <td>77183.60</td>\n",
              "    </tr>\n",
              "    <tr>\n",
              "      <th>12347</th>\n",
              "      <td>4310.00</td>\n",
              "    </tr>\n",
              "    <tr>\n",
              "      <th>12348</th>\n",
              "      <td>1797.24</td>\n",
              "    </tr>\n",
              "    <tr>\n",
              "      <th>12349</th>\n",
              "      <td>1757.55</td>\n",
              "    </tr>\n",
              "    <tr>\n",
              "      <th>12350</th>\n",
              "      <td>334.40</td>\n",
              "    </tr>\n",
              "    <tr>\n",
              "      <th>...</th>\n",
              "      <td>...</td>\n",
              "    </tr>\n",
              "    <tr>\n",
              "      <th>18280</th>\n",
              "      <td>180.60</td>\n",
              "    </tr>\n",
              "    <tr>\n",
              "      <th>18281</th>\n",
              "      <td>80.82</td>\n",
              "    </tr>\n",
              "    <tr>\n",
              "      <th>18282</th>\n",
              "      <td>178.05</td>\n",
              "    </tr>\n",
              "    <tr>\n",
              "      <th>18283</th>\n",
              "      <td>2094.88</td>\n",
              "    </tr>\n",
              "    <tr>\n",
              "      <th>18287</th>\n",
              "      <td>1837.28</td>\n",
              "    </tr>\n",
              "  </tbody>\n",
              "</table>\n",
              "<p>4339 rows × 1 columns</p>\n",
              "</div>"
            ],
            "text/plain": [
              "            amount_spent\n",
              "CustomerID              \n",
              "12346           77183.60\n",
              "12347            4310.00\n",
              "12348            1797.24\n",
              "12349            1757.55\n",
              "12350             334.40\n",
              "...                  ...\n",
              "18280             180.60\n",
              "18281              80.82\n",
              "18282             178.05\n",
              "18283            2094.88\n",
              "18287            1837.28\n",
              "\n",
              "[4339 rows x 1 columns]"
            ]
          },
          "metadata": {},
          "execution_count": 10
        }
      ]
    },
    {
      "cell_type": "markdown",
      "metadata": {
        "id": "xWiKPE0rVqPE"
      },
      "source": [
        "Now we'll leave it to you to solve Q2 & Q3, which you can leverage from your solution for Q1:\n",
        "\n",
        "## Q2: How to identify which country has the most VIP Customers?"
      ]
    },
    {
      "cell_type": "code",
      "metadata": {
        "id": "-jtxnzi5VqPE"
      },
      "source": [
        "# your code here\n"
      ],
      "execution_count": 4,
      "outputs": []
    },
    {
      "cell_type": "markdown",
      "metadata": {
        "id": "gn4o9bQRVqPF"
      },
      "source": [
        "## Q3: How to identify which country has the most VIP+Preferred Customers combined?"
      ]
    },
    {
      "cell_type": "code",
      "metadata": {
        "id": "MAUg5Gp6VqPF"
      },
      "source": [
        "# your code here"
      ],
      "execution_count": 5,
      "outputs": []
    }
  ]
}